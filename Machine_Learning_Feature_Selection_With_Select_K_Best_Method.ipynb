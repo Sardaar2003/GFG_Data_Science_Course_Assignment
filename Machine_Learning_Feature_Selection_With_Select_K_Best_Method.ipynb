{
 "cells": [
  {
   "cell_type": "markdown",
   "metadata": {
    "id": "znzfXLjmE221"
   },
   "source": [
    "## Importing the library"
   ]
  },
  {
   "cell_type": "code",
   "execution_count": 5,
   "metadata": {
    "id": "t3OJ6k70Ef_L"
   },
   "outputs": [],
   "source": [
    "import numpy as np\n",
    "import pandas as pd\n",
    "import matplotlib.pyplot as plt\n",
    "import seaborn as sns\n"
   ]
  },
  {
   "cell_type": "markdown",
   "metadata": {
    "id": "Pv-iHHYkFVI8"
   },
   "source": [
    "## Loading the Data"
   ]
  },
  {
   "cell_type": "code",
   "execution_count": 6,
   "metadata": {
    "colab": {
     "base_uri": "https://localhost:8080/",
     "height": 261
    },
    "id": "pPixz-MFFWRg",
    "outputId": "6fc06d35-6952-4f57-d2c6-212bbf11b685"
   },
   "outputs": [
    {
     "data": {
      "text/html": [
       "<div>\n",
       "<style scoped>\n",
       "    .dataframe tbody tr th:only-of-type {\n",
       "        vertical-align: middle;\n",
       "    }\n",
       "\n",
       "    .dataframe tbody tr th {\n",
       "        vertical-align: top;\n",
       "    }\n",
       "\n",
       "    .dataframe thead th {\n",
       "        text-align: right;\n",
       "    }\n",
       "</style>\n",
       "<table border=\"1\" class=\"dataframe\">\n",
       "  <thead>\n",
       "    <tr style=\"text-align: right;\">\n",
       "      <th></th>\n",
       "      <th>Year</th>\n",
       "      <th>Month</th>\n",
       "      <th>Day</th>\n",
       "      <th>Hour</th>\n",
       "      <th>Dew Point</th>\n",
       "      <th>Temperature</th>\n",
       "      <th>Pressure</th>\n",
       "      <th>Relative Humidity</th>\n",
       "      <th>Wind Direction</th>\n",
       "      <th>Wind Speed</th>\n",
       "      <th>Solar Radiation (GHI)</th>\n",
       "    </tr>\n",
       "  </thead>\n",
       "  <tbody>\n",
       "    <tr>\n",
       "      <th>0</th>\n",
       "      <td>2011</td>\n",
       "      <td>1</td>\n",
       "      <td>1</td>\n",
       "      <td>0</td>\n",
       "      <td>8</td>\n",
       "      <td>13.522659</td>\n",
       "      <td>986.761841</td>\n",
       "      <td>72.295858</td>\n",
       "      <td>37.288387</td>\n",
       "      <td>3.011042</td>\n",
       "      <td>0</td>\n",
       "    </tr>\n",
       "    <tr>\n",
       "      <th>1</th>\n",
       "      <td>2011</td>\n",
       "      <td>1</td>\n",
       "      <td>1</td>\n",
       "      <td>1</td>\n",
       "      <td>8</td>\n",
       "      <td>12.835814</td>\n",
       "      <td>986.441406</td>\n",
       "      <td>75.376186</td>\n",
       "      <td>37.686718</td>\n",
       "      <td>3.091243</td>\n",
       "      <td>0</td>\n",
       "    </tr>\n",
       "    <tr>\n",
       "      <th>2</th>\n",
       "      <td>2011</td>\n",
       "      <td>1</td>\n",
       "      <td>1</td>\n",
       "      <td>2</td>\n",
       "      <td>8</td>\n",
       "      <td>12.198058</td>\n",
       "      <td>985.736511</td>\n",
       "      <td>78.405198</td>\n",
       "      <td>35.053905</td>\n",
       "      <td>3.007649</td>\n",
       "      <td>0</td>\n",
       "    </tr>\n",
       "    <tr>\n",
       "      <th>3</th>\n",
       "      <td>2011</td>\n",
       "      <td>1</td>\n",
       "      <td>1</td>\n",
       "      <td>3</td>\n",
       "      <td>8</td>\n",
       "      <td>11.583500</td>\n",
       "      <td>985.525696</td>\n",
       "      <td>81.042980</td>\n",
       "      <td>30.135216</td>\n",
       "      <td>2.926715</td>\n",
       "      <td>0</td>\n",
       "    </tr>\n",
       "    <tr>\n",
       "      <th>4</th>\n",
       "      <td>2011</td>\n",
       "      <td>1</td>\n",
       "      <td>1</td>\n",
       "      <td>4</td>\n",
       "      <td>8</td>\n",
       "      <td>11.029578</td>\n",
       "      <td>985.661926</td>\n",
       "      <td>82.548508</td>\n",
       "      <td>24.402969</td>\n",
       "      <td>2.915177</td>\n",
       "      <td>0</td>\n",
       "    </tr>\n",
       "  </tbody>\n",
       "</table>\n",
       "</div>"
      ],
      "text/plain": [
       "   Year  Month  Day  Hour  Dew Point  Temperature    Pressure  \\\n",
       "0  2011      1    1     0          8    13.522659  986.761841   \n",
       "1  2011      1    1     1          8    12.835814  986.441406   \n",
       "2  2011      1    1     2          8    12.198058  985.736511   \n",
       "3  2011      1    1     3          8    11.583500  985.525696   \n",
       "4  2011      1    1     4          8    11.029578  985.661926   \n",
       "\n",
       "   Relative Humidity  Wind Direction  Wind Speed  Solar Radiation (GHI)  \n",
       "0          72.295858       37.288387    3.011042                      0  \n",
       "1          75.376186       37.686718    3.091243                      0  \n",
       "2          78.405198       35.053905    3.007649                      0  \n",
       "3          81.042980       30.135216    2.926715                      0  \n",
       "4          82.548508       24.402969    2.915177                      0  "
      ]
     },
     "execution_count": 6,
     "metadata": {},
     "output_type": "execute_result"
    }
   ],
   "source": [
    "data=pd.read_csv('global_heat_index.csv')\n",
    "data.head()"
   ]
  },
  {
   "cell_type": "code",
   "execution_count": 7,
   "metadata": {
    "colab": {
     "base_uri": "https://localhost:8080/"
    },
    "id": "-MjLTf6YFo6r",
    "outputId": "5c331992-1315-4017-ec2b-7725a990a6ee"
   },
   "outputs": [
    {
     "name": "stdout",
     "output_type": "stream",
     "text": [
      "<class 'pandas.core.frame.DataFrame'>\n",
      "RangeIndex: 17520 entries, 0 to 17519\n",
      "Data columns (total 11 columns):\n",
      " #   Column                 Non-Null Count  Dtype  \n",
      "---  ------                 --------------  -----  \n",
      " 0   Year                   17520 non-null  int64  \n",
      " 1   Month                  17520 non-null  int64  \n",
      " 2   Day                    17520 non-null  int64  \n",
      " 3   Hour                   17520 non-null  int64  \n",
      " 4   Dew Point              17520 non-null  int64  \n",
      " 5   Temperature            17520 non-null  float64\n",
      " 6   Pressure               17520 non-null  float64\n",
      " 7   Relative Humidity      17520 non-null  float64\n",
      " 8   Wind Direction         17520 non-null  float64\n",
      " 9   Wind Speed             17520 non-null  float64\n",
      " 10  Solar Radiation (GHI)  17520 non-null  int64  \n",
      "dtypes: float64(5), int64(6)\n",
      "memory usage: 1.5 MB\n"
     ]
    }
   ],
   "source": [
    "data.info()"
   ]
  },
  {
   "cell_type": "code",
   "execution_count": 8,
   "metadata": {
    "colab": {
     "base_uri": "https://localhost:8080/",
     "height": 355
    },
    "id": "o5QVf2EbF0cB",
    "outputId": "22d56157-abbd-4c1c-8857-9d2aaae71ca1"
   },
   "outputs": [
    {
     "data": {
      "text/html": [
       "<div>\n",
       "<style scoped>\n",
       "    .dataframe tbody tr th:only-of-type {\n",
       "        vertical-align: middle;\n",
       "    }\n",
       "\n",
       "    .dataframe tbody tr th {\n",
       "        vertical-align: top;\n",
       "    }\n",
       "\n",
       "    .dataframe thead th {\n",
       "        text-align: right;\n",
       "    }\n",
       "</style>\n",
       "<table border=\"1\" class=\"dataframe\">\n",
       "  <thead>\n",
       "    <tr style=\"text-align: right;\">\n",
       "      <th></th>\n",
       "      <th>Year</th>\n",
       "      <th>Month</th>\n",
       "      <th>Day</th>\n",
       "      <th>Hour</th>\n",
       "      <th>Dew Point</th>\n",
       "      <th>Temperature</th>\n",
       "      <th>Pressure</th>\n",
       "      <th>Relative Humidity</th>\n",
       "      <th>Wind Direction</th>\n",
       "      <th>Wind Speed</th>\n",
       "      <th>Solar Radiation (GHI)</th>\n",
       "    </tr>\n",
       "  </thead>\n",
       "  <tbody>\n",
       "    <tr>\n",
       "      <th>count</th>\n",
       "      <td>17520.000000</td>\n",
       "      <td>17520.000000</td>\n",
       "      <td>17520.000000</td>\n",
       "      <td>17520.000000</td>\n",
       "      <td>17520.000000</td>\n",
       "      <td>17520.000000</td>\n",
       "      <td>17520.000000</td>\n",
       "      <td>17520.000000</td>\n",
       "      <td>17520.000000</td>\n",
       "      <td>17520.000000</td>\n",
       "      <td>17520.000000</td>\n",
       "    </tr>\n",
       "    <tr>\n",
       "      <th>mean</th>\n",
       "      <td>2011.500000</td>\n",
       "      <td>6.526027</td>\n",
       "      <td>15.720548</td>\n",
       "      <td>11.500000</td>\n",
       "      <td>11.375171</td>\n",
       "      <td>26.953731</td>\n",
       "      <td>979.699263</td>\n",
       "      <td>47.635089</td>\n",
       "      <td>182.306160</td>\n",
       "      <td>2.637895</td>\n",
       "      <td>235.047945</td>\n",
       "    </tr>\n",
       "    <tr>\n",
       "      <th>std</th>\n",
       "      <td>0.500014</td>\n",
       "      <td>3.447950</td>\n",
       "      <td>8.796498</td>\n",
       "      <td>6.922384</td>\n",
       "      <td>10.850196</td>\n",
       "      <td>8.417945</td>\n",
       "      <td>6.130488</td>\n",
       "      <td>26.734818</td>\n",
       "      <td>98.695757</td>\n",
       "      <td>1.244842</td>\n",
       "      <td>312.916933</td>\n",
       "    </tr>\n",
       "    <tr>\n",
       "      <th>min</th>\n",
       "      <td>2011.000000</td>\n",
       "      <td>1.000000</td>\n",
       "      <td>1.000000</td>\n",
       "      <td>0.000000</td>\n",
       "      <td>-28.000000</td>\n",
       "      <td>5.063506</td>\n",
       "      <td>964.755859</td>\n",
       "      <td>0.921771</td>\n",
       "      <td>0.034660</td>\n",
       "      <td>0.030113</td>\n",
       "      <td>0.000000</td>\n",
       "    </tr>\n",
       "    <tr>\n",
       "      <th>25%</th>\n",
       "      <td>2011.000000</td>\n",
       "      <td>4.000000</td>\n",
       "      <td>8.000000</td>\n",
       "      <td>5.750000</td>\n",
       "      <td>3.000000</td>\n",
       "      <td>21.611058</td>\n",
       "      <td>974.325027</td>\n",
       "      <td>23.413340</td>\n",
       "      <td>84.141256</td>\n",
       "      <td>1.718903</td>\n",
       "      <td>0.000000</td>\n",
       "    </tr>\n",
       "    <tr>\n",
       "      <th>50%</th>\n",
       "      <td>2011.500000</td>\n",
       "      <td>7.000000</td>\n",
       "      <td>16.000000</td>\n",
       "      <td>11.500000</td>\n",
       "      <td>12.000000</td>\n",
       "      <td>27.455196</td>\n",
       "      <td>980.491516</td>\n",
       "      <td>46.529440</td>\n",
       "      <td>221.495407</td>\n",
       "      <td>2.564217</td>\n",
       "      <td>0.000000</td>\n",
       "    </tr>\n",
       "    <tr>\n",
       "      <th>75%</th>\n",
       "      <td>2012.000000</td>\n",
       "      <td>10.000000</td>\n",
       "      <td>23.000000</td>\n",
       "      <td>17.250000</td>\n",
       "      <td>22.000000</td>\n",
       "      <td>32.031030</td>\n",
       "      <td>984.943756</td>\n",
       "      <td>69.450031</td>\n",
       "      <td>250.299492</td>\n",
       "      <td>3.412514</td>\n",
       "      <td>489.250000</td>\n",
       "    </tr>\n",
       "    <tr>\n",
       "      <th>max</th>\n",
       "      <td>2012.000000</td>\n",
       "      <td>12.000000</td>\n",
       "      <td>31.000000</td>\n",
       "      <td>23.000000</td>\n",
       "      <td>27.000000</td>\n",
       "      <td>52.157927</td>\n",
       "      <td>993.353210</td>\n",
       "      <td>100.000000</td>\n",
       "      <td>359.989960</td>\n",
       "      <td>7.287084</td>\n",
       "      <td>1001.000000</td>\n",
       "    </tr>\n",
       "  </tbody>\n",
       "</table>\n",
       "</div>"
      ],
      "text/plain": [
       "               Year         Month           Day          Hour     Dew Point  \\\n",
       "count  17520.000000  17520.000000  17520.000000  17520.000000  17520.000000   \n",
       "mean    2011.500000      6.526027     15.720548     11.500000     11.375171   \n",
       "std        0.500014      3.447950      8.796498      6.922384     10.850196   \n",
       "min     2011.000000      1.000000      1.000000      0.000000    -28.000000   \n",
       "25%     2011.000000      4.000000      8.000000      5.750000      3.000000   \n",
       "50%     2011.500000      7.000000     16.000000     11.500000     12.000000   \n",
       "75%     2012.000000     10.000000     23.000000     17.250000     22.000000   \n",
       "max     2012.000000     12.000000     31.000000     23.000000     27.000000   \n",
       "\n",
       "        Temperature      Pressure  Relative Humidity  Wind Direction  \\\n",
       "count  17520.000000  17520.000000       17520.000000    17520.000000   \n",
       "mean      26.953731    979.699263          47.635089      182.306160   \n",
       "std        8.417945      6.130488          26.734818       98.695757   \n",
       "min        5.063506    964.755859           0.921771        0.034660   \n",
       "25%       21.611058    974.325027          23.413340       84.141256   \n",
       "50%       27.455196    980.491516          46.529440      221.495407   \n",
       "75%       32.031030    984.943756          69.450031      250.299492   \n",
       "max       52.157927    993.353210         100.000000      359.989960   \n",
       "\n",
       "         Wind Speed  Solar Radiation (GHI)  \n",
       "count  17520.000000           17520.000000  \n",
       "mean       2.637895             235.047945  \n",
       "std        1.244842             312.916933  \n",
       "min        0.030113               0.000000  \n",
       "25%        1.718903               0.000000  \n",
       "50%        2.564217               0.000000  \n",
       "75%        3.412514             489.250000  \n",
       "max        7.287084            1001.000000  "
      ]
     },
     "execution_count": 8,
     "metadata": {},
     "output_type": "execute_result"
    }
   ],
   "source": [
    "data.describe()"
   ]
  },
  {
   "cell_type": "code",
   "execution_count": 9,
   "metadata": {
    "colab": {
     "base_uri": "https://localhost:8080/"
    },
    "id": "c9tMmOOVF6tf",
    "outputId": "2c7b6327-3d9e-4e90-aaa2-c97fe316d5e5"
   },
   "outputs": [
    {
     "data": {
      "text/plain": [
       "Year                     0\n",
       "Month                    0\n",
       "Day                      0\n",
       "Hour                     0\n",
       "Dew Point                0\n",
       "Temperature              0\n",
       "Pressure                 0\n",
       "Relative Humidity        0\n",
       "Wind Direction           0\n",
       "Wind Speed               0\n",
       "Solar Radiation (GHI)    0\n",
       "dtype: int64"
      ]
     },
     "execution_count": 9,
     "metadata": {},
     "output_type": "execute_result"
    }
   ],
   "source": [
    "data.isnull().sum()"
   ]
  },
  {
   "cell_type": "code",
   "execution_count": 10,
   "metadata": {
    "colab": {
     "base_uri": "https://localhost:8080/"
    },
    "id": "Stca5v7yGH_M",
    "outputId": "44ca8e6c-b1b3-4674-b17b-906fc6569c0d"
   },
   "outputs": [
    {
     "data": {
      "text/plain": [
       "Index(['Year', 'Month', 'Day', 'Hour', 'Dew Point', 'Temperature', 'Pressure',\n",
       "       'Relative Humidity', 'Wind Direction', 'Wind Speed',\n",
       "       'Solar Radiation (GHI)'],\n",
       "      dtype='object')"
      ]
     },
     "execution_count": 10,
     "metadata": {},
     "output_type": "execute_result"
    }
   ],
   "source": [
    "data.columns"
   ]
  },
  {
   "cell_type": "code",
   "execution_count": 11,
   "metadata": {
    "colab": {
     "base_uri": "https://localhost:8080/"
    },
    "id": "ipIl62DsGKHF",
    "outputId": "92b01440-809a-4f42-d67e-4b0ad92f37f9"
   },
   "outputs": [
    {
     "data": {
      "text/plain": [
       "0     730\n",
       "1     730\n",
       "2     730\n",
       "3     730\n",
       "4     730\n",
       "5     730\n",
       "19    730\n",
       "20    730\n",
       "21    730\n",
       "22    730\n",
       "23    730\n",
       "6     409\n",
       "18    317\n",
       "7      73\n",
       "8       1\n",
       "15      1\n",
       "Name: Hour, dtype: int64"
      ]
     },
     "execution_count": 11,
     "metadata": {},
     "output_type": "execute_result"
    }
   ],
   "source": [
    "data[data['Solar Radiation (GHI)']==0]['Hour'].value_counts()"
   ]
  },
  {
   "cell_type": "markdown",
   "metadata": {
    "id": "9au8bpZ7HH6x"
   },
   "source": [
    "## Cleaning Data"
   ]
  },
  {
   "cell_type": "code",
   "execution_count": 12,
   "metadata": {
    "id": "9a2_vqn3Gglr"
   },
   "outputs": [],
   "source": [
    "clean1=data[data['Hour']<6]\n",
    "clean2=data[data['Hour']>18]"
   ]
  },
  {
   "cell_type": "code",
   "execution_count": 13,
   "metadata": {
    "colab": {
     "base_uri": "https://localhost:8080/",
     "height": 279
    },
    "id": "AhuX5mhpGuRY",
    "outputId": "72aff429-208d-4e17-c83d-23ab181b10c2"
   },
   "outputs": [
    {
     "name": "stdout",
     "output_type": "stream",
     "text": [
      "Cleaning Data from 12:00 am to 5:59 am\n"
     ]
    },
    {
     "data": {
      "text/html": [
       "<div>\n",
       "<style scoped>\n",
       "    .dataframe tbody tr th:only-of-type {\n",
       "        vertical-align: middle;\n",
       "    }\n",
       "\n",
       "    .dataframe tbody tr th {\n",
       "        vertical-align: top;\n",
       "    }\n",
       "\n",
       "    .dataframe thead th {\n",
       "        text-align: right;\n",
       "    }\n",
       "</style>\n",
       "<table border=\"1\" class=\"dataframe\">\n",
       "  <thead>\n",
       "    <tr style=\"text-align: right;\">\n",
       "      <th></th>\n",
       "      <th>Year</th>\n",
       "      <th>Month</th>\n",
       "      <th>Day</th>\n",
       "      <th>Hour</th>\n",
       "      <th>Dew Point</th>\n",
       "      <th>Temperature</th>\n",
       "      <th>Pressure</th>\n",
       "      <th>Relative Humidity</th>\n",
       "      <th>Wind Direction</th>\n",
       "      <th>Wind Speed</th>\n",
       "      <th>Solar Radiation (GHI)</th>\n",
       "    </tr>\n",
       "  </thead>\n",
       "  <tbody>\n",
       "    <tr>\n",
       "      <th>0</th>\n",
       "      <td>2011</td>\n",
       "      <td>1</td>\n",
       "      <td>1</td>\n",
       "      <td>0</td>\n",
       "      <td>8</td>\n",
       "      <td>13.522659</td>\n",
       "      <td>986.761841</td>\n",
       "      <td>72.295858</td>\n",
       "      <td>37.288387</td>\n",
       "      <td>3.011042</td>\n",
       "      <td>0</td>\n",
       "    </tr>\n",
       "    <tr>\n",
       "      <th>1</th>\n",
       "      <td>2011</td>\n",
       "      <td>1</td>\n",
       "      <td>1</td>\n",
       "      <td>1</td>\n",
       "      <td>8</td>\n",
       "      <td>12.835814</td>\n",
       "      <td>986.441406</td>\n",
       "      <td>75.376186</td>\n",
       "      <td>37.686718</td>\n",
       "      <td>3.091243</td>\n",
       "      <td>0</td>\n",
       "    </tr>\n",
       "    <tr>\n",
       "      <th>2</th>\n",
       "      <td>2011</td>\n",
       "      <td>1</td>\n",
       "      <td>1</td>\n",
       "      <td>2</td>\n",
       "      <td>8</td>\n",
       "      <td>12.198058</td>\n",
       "      <td>985.736511</td>\n",
       "      <td>78.405198</td>\n",
       "      <td>35.053905</td>\n",
       "      <td>3.007649</td>\n",
       "      <td>0</td>\n",
       "    </tr>\n",
       "    <tr>\n",
       "      <th>3</th>\n",
       "      <td>2011</td>\n",
       "      <td>1</td>\n",
       "      <td>1</td>\n",
       "      <td>3</td>\n",
       "      <td>8</td>\n",
       "      <td>11.583500</td>\n",
       "      <td>985.525696</td>\n",
       "      <td>81.042980</td>\n",
       "      <td>30.135216</td>\n",
       "      <td>2.926715</td>\n",
       "      <td>0</td>\n",
       "    </tr>\n",
       "    <tr>\n",
       "      <th>4</th>\n",
       "      <td>2011</td>\n",
       "      <td>1</td>\n",
       "      <td>1</td>\n",
       "      <td>4</td>\n",
       "      <td>8</td>\n",
       "      <td>11.029578</td>\n",
       "      <td>985.661926</td>\n",
       "      <td>82.548508</td>\n",
       "      <td>24.402969</td>\n",
       "      <td>2.915177</td>\n",
       "      <td>0</td>\n",
       "    </tr>\n",
       "  </tbody>\n",
       "</table>\n",
       "</div>"
      ],
      "text/plain": [
       "   Year  Month  Day  Hour  Dew Point  Temperature    Pressure  \\\n",
       "0  2011      1    1     0          8    13.522659  986.761841   \n",
       "1  2011      1    1     1          8    12.835814  986.441406   \n",
       "2  2011      1    1     2          8    12.198058  985.736511   \n",
       "3  2011      1    1     3          8    11.583500  985.525696   \n",
       "4  2011      1    1     4          8    11.029578  985.661926   \n",
       "\n",
       "   Relative Humidity  Wind Direction  Wind Speed  Solar Radiation (GHI)  \n",
       "0          72.295858       37.288387    3.011042                      0  \n",
       "1          75.376186       37.686718    3.091243                      0  \n",
       "2          78.405198       35.053905    3.007649                      0  \n",
       "3          81.042980       30.135216    2.926715                      0  \n",
       "4          82.548508       24.402969    2.915177                      0  "
      ]
     },
     "execution_count": 13,
     "metadata": {},
     "output_type": "execute_result"
    }
   ],
   "source": [
    "print(\"Cleaning Data from 12:00 am to 5:59 am\")\n",
    "clean1.head()"
   ]
  },
  {
   "cell_type": "code",
   "execution_count": 14,
   "metadata": {
    "colab": {
     "base_uri": "https://localhost:8080/",
     "height": 279
    },
    "id": "jmY1WiSlGvxv",
    "outputId": "bf89537f-97f6-4286-eb4e-f94117dd4740"
   },
   "outputs": [
    {
     "name": "stdout",
     "output_type": "stream",
     "text": [
      "Cleaning Data from 18:00 pm to  12.00 am\n"
     ]
    },
    {
     "data": {
      "text/html": [
       "<div>\n",
       "<style scoped>\n",
       "    .dataframe tbody tr th:only-of-type {\n",
       "        vertical-align: middle;\n",
       "    }\n",
       "\n",
       "    .dataframe tbody tr th {\n",
       "        vertical-align: top;\n",
       "    }\n",
       "\n",
       "    .dataframe thead th {\n",
       "        text-align: right;\n",
       "    }\n",
       "</style>\n",
       "<table border=\"1\" class=\"dataframe\">\n",
       "  <thead>\n",
       "    <tr style=\"text-align: right;\">\n",
       "      <th></th>\n",
       "      <th>Year</th>\n",
       "      <th>Month</th>\n",
       "      <th>Day</th>\n",
       "      <th>Hour</th>\n",
       "      <th>Dew Point</th>\n",
       "      <th>Temperature</th>\n",
       "      <th>Pressure</th>\n",
       "      <th>Relative Humidity</th>\n",
       "      <th>Wind Direction</th>\n",
       "      <th>Wind Speed</th>\n",
       "      <th>Solar Radiation (GHI)</th>\n",
       "    </tr>\n",
       "  </thead>\n",
       "  <tbody>\n",
       "    <tr>\n",
       "      <th>19</th>\n",
       "      <td>2011</td>\n",
       "      <td>1</td>\n",
       "      <td>1</td>\n",
       "      <td>19</td>\n",
       "      <td>4</td>\n",
       "      <td>13.915211</td>\n",
       "      <td>987.175781</td>\n",
       "      <td>52.122064</td>\n",
       "      <td>38.189991</td>\n",
       "      <td>2.709682</td>\n",
       "      <td>0</td>\n",
       "    </tr>\n",
       "    <tr>\n",
       "      <th>20</th>\n",
       "      <td>2011</td>\n",
       "      <td>1</td>\n",
       "      <td>1</td>\n",
       "      <td>20</td>\n",
       "      <td>3</td>\n",
       "      <td>13.106395</td>\n",
       "      <td>987.245666</td>\n",
       "      <td>53.782549</td>\n",
       "      <td>45.614468</td>\n",
       "      <td>2.713746</td>\n",
       "      <td>0</td>\n",
       "    </tr>\n",
       "    <tr>\n",
       "      <th>21</th>\n",
       "      <td>2011</td>\n",
       "      <td>1</td>\n",
       "      <td>1</td>\n",
       "      <td>21</td>\n",
       "      <td>3</td>\n",
       "      <td>12.326217</td>\n",
       "      <td>986.971375</td>\n",
       "      <td>55.613451</td>\n",
       "      <td>53.939449</td>\n",
       "      <td>2.701125</td>\n",
       "      <td>0</td>\n",
       "    </tr>\n",
       "    <tr>\n",
       "      <th>22</th>\n",
       "      <td>2011</td>\n",
       "      <td>1</td>\n",
       "      <td>1</td>\n",
       "      <td>22</td>\n",
       "      <td>3</td>\n",
       "      <td>11.570982</td>\n",
       "      <td>986.042419</td>\n",
       "      <td>57.458358</td>\n",
       "      <td>62.491528</td>\n",
       "      <td>2.639709</td>\n",
       "      <td>0</td>\n",
       "    </tr>\n",
       "    <tr>\n",
       "      <th>23</th>\n",
       "      <td>2011</td>\n",
       "      <td>1</td>\n",
       "      <td>1</td>\n",
       "      <td>23</td>\n",
       "      <td>3</td>\n",
       "      <td>10.869849</td>\n",
       "      <td>985.439819</td>\n",
       "      <td>59.446614</td>\n",
       "      <td>71.250389</td>\n",
       "      <td>2.511646</td>\n",
       "      <td>0</td>\n",
       "    </tr>\n",
       "  </tbody>\n",
       "</table>\n",
       "</div>"
      ],
      "text/plain": [
       "    Year  Month  Day  Hour  Dew Point  Temperature    Pressure  \\\n",
       "19  2011      1    1    19          4    13.915211  987.175781   \n",
       "20  2011      1    1    20          3    13.106395  987.245666   \n",
       "21  2011      1    1    21          3    12.326217  986.971375   \n",
       "22  2011      1    1    22          3    11.570982  986.042419   \n",
       "23  2011      1    1    23          3    10.869849  985.439819   \n",
       "\n",
       "    Relative Humidity  Wind Direction  Wind Speed  Solar Radiation (GHI)  \n",
       "19          52.122064       38.189991    2.709682                      0  \n",
       "20          53.782549       45.614468    2.713746                      0  \n",
       "21          55.613451       53.939449    2.701125                      0  \n",
       "22          57.458358       62.491528    2.639709                      0  \n",
       "23          59.446614       71.250389    2.511646                      0  "
      ]
     },
     "execution_count": 14,
     "metadata": {},
     "output_type": "execute_result"
    }
   ],
   "source": [
    "print(\"Cleaning Data from 18:00 pm to  12.00 am\")\n",
    "clean2.head()"
   ]
  },
  {
   "cell_type": "code",
   "execution_count": 15,
   "metadata": {
    "id": "KWZPYs0bHYRr"
   },
   "outputs": [],
   "source": [
    "data.drop(clean1.index,axis=0,inplace=True)\n",
    "data.drop(clean2.index,axis=0,inplace=True)"
   ]
  },
  {
   "cell_type": "code",
   "execution_count": 16,
   "metadata": {
    "colab": {
     "base_uri": "https://localhost:8080/",
     "height": 417
    },
    "id": "eSjlbQOZHh7x",
    "outputId": "7121f3d4-9dac-40fa-8873-bedda10ab15e"
   },
   "outputs": [
    {
     "data": {
      "text/html": [
       "<div>\n",
       "<style scoped>\n",
       "    .dataframe tbody tr th:only-of-type {\n",
       "        vertical-align: middle;\n",
       "    }\n",
       "\n",
       "    .dataframe tbody tr th {\n",
       "        vertical-align: top;\n",
       "    }\n",
       "\n",
       "    .dataframe thead th {\n",
       "        text-align: right;\n",
       "    }\n",
       "</style>\n",
       "<table border=\"1\" class=\"dataframe\">\n",
       "  <thead>\n",
       "    <tr style=\"text-align: right;\">\n",
       "      <th></th>\n",
       "      <th>Year</th>\n",
       "      <th>Month</th>\n",
       "      <th>Day</th>\n",
       "      <th>Hour</th>\n",
       "      <th>Dew Point</th>\n",
       "      <th>Temperature</th>\n",
       "      <th>Pressure</th>\n",
       "      <th>Relative Humidity</th>\n",
       "      <th>Wind Direction</th>\n",
       "      <th>Wind Speed</th>\n",
       "      <th>Solar Radiation (GHI)</th>\n",
       "    </tr>\n",
       "  </thead>\n",
       "  <tbody>\n",
       "    <tr>\n",
       "      <th>6</th>\n",
       "      <td>2011</td>\n",
       "      <td>1</td>\n",
       "      <td>1</td>\n",
       "      <td>6</td>\n",
       "      <td>2</td>\n",
       "      <td>7.806705</td>\n",
       "      <td>986.249146</td>\n",
       "      <td>67.093181</td>\n",
       "      <td>95.835983</td>\n",
       "      <td>1.815175</td>\n",
       "      <td>0</td>\n",
       "    </tr>\n",
       "    <tr>\n",
       "      <th>7</th>\n",
       "      <td>2011</td>\n",
       "      <td>1</td>\n",
       "      <td>1</td>\n",
       "      <td>7</td>\n",
       "      <td>2</td>\n",
       "      <td>9.036408</td>\n",
       "      <td>987.038940</td>\n",
       "      <td>64.035483</td>\n",
       "      <td>105.198181</td>\n",
       "      <td>1.615310</td>\n",
       "      <td>0</td>\n",
       "    </tr>\n",
       "    <tr>\n",
       "      <th>8</th>\n",
       "      <td>2011</td>\n",
       "      <td>1</td>\n",
       "      <td>1</td>\n",
       "      <td>8</td>\n",
       "      <td>3</td>\n",
       "      <td>12.158280</td>\n",
       "      <td>987.897400</td>\n",
       "      <td>55.105656</td>\n",
       "      <td>113.317665</td>\n",
       "      <td>1.439088</td>\n",
       "      <td>159</td>\n",
       "    </tr>\n",
       "    <tr>\n",
       "      <th>9</th>\n",
       "      <td>2011</td>\n",
       "      <td>1</td>\n",
       "      <td>1</td>\n",
       "      <td>9</td>\n",
       "      <td>3</td>\n",
       "      <td>14.965301</td>\n",
       "      <td>988.211914</td>\n",
       "      <td>47.166938</td>\n",
       "      <td>117.327606</td>\n",
       "      <td>1.063374</td>\n",
       "      <td>363</td>\n",
       "    </tr>\n",
       "    <tr>\n",
       "      <th>10</th>\n",
       "      <td>2011</td>\n",
       "      <td>1</td>\n",
       "      <td>1</td>\n",
       "      <td>10</td>\n",
       "      <td>3</td>\n",
       "      <td>18.956082</td>\n",
       "      <td>988.054504</td>\n",
       "      <td>36.747087</td>\n",
       "      <td>72.488327</td>\n",
       "      <td>0.545695</td>\n",
       "      <td>533</td>\n",
       "    </tr>\n",
       "    <tr>\n",
       "      <th>11</th>\n",
       "      <td>2011</td>\n",
       "      <td>1</td>\n",
       "      <td>1</td>\n",
       "      <td>11</td>\n",
       "      <td>2</td>\n",
       "      <td>21.354047</td>\n",
       "      <td>987.463867</td>\n",
       "      <td>29.157015</td>\n",
       "      <td>12.976929</td>\n",
       "      <td>0.980117</td>\n",
       "      <td>649</td>\n",
       "    </tr>\n",
       "    <tr>\n",
       "      <th>12</th>\n",
       "      <td>2011</td>\n",
       "      <td>1</td>\n",
       "      <td>1</td>\n",
       "      <td>12</td>\n",
       "      <td>2</td>\n",
       "      <td>22.161257</td>\n",
       "      <td>986.386169</td>\n",
       "      <td>27.593071</td>\n",
       "      <td>4.777779</td>\n",
       "      <td>1.411915</td>\n",
       "      <td>698</td>\n",
       "    </tr>\n",
       "    <tr>\n",
       "      <th>13</th>\n",
       "      <td>2011</td>\n",
       "      <td>1</td>\n",
       "      <td>1</td>\n",
       "      <td>13</td>\n",
       "      <td>2</td>\n",
       "      <td>22.256216</td>\n",
       "      <td>985.736511</td>\n",
       "      <td>27.274695</td>\n",
       "      <td>5.355347</td>\n",
       "      <td>1.747909</td>\n",
       "      <td>675</td>\n",
       "    </tr>\n",
       "    <tr>\n",
       "      <th>14</th>\n",
       "      <td>2011</td>\n",
       "      <td>1</td>\n",
       "      <td>1</td>\n",
       "      <td>14</td>\n",
       "      <td>2</td>\n",
       "      <td>21.725884</td>\n",
       "      <td>985.521545</td>\n",
       "      <td>27.819289</td>\n",
       "      <td>6.877182</td>\n",
       "      <td>2.005287</td>\n",
       "      <td>582</td>\n",
       "    </tr>\n",
       "    <tr>\n",
       "      <th>15</th>\n",
       "      <td>2011</td>\n",
       "      <td>1</td>\n",
       "      <td>1</td>\n",
       "      <td>15</td>\n",
       "      <td>2</td>\n",
       "      <td>20.507269</td>\n",
       "      <td>985.279663</td>\n",
       "      <td>30.023284</td>\n",
       "      <td>10.448921</td>\n",
       "      <td>2.206879</td>\n",
       "      <td>430</td>\n",
       "    </tr>\n",
       "  </tbody>\n",
       "</table>\n",
       "</div>"
      ],
      "text/plain": [
       "    Year  Month  Day  Hour  Dew Point  Temperature    Pressure  \\\n",
       "6   2011      1    1     6          2     7.806705  986.249146   \n",
       "7   2011      1    1     7          2     9.036408  987.038940   \n",
       "8   2011      1    1     8          3    12.158280  987.897400   \n",
       "9   2011      1    1     9          3    14.965301  988.211914   \n",
       "10  2011      1    1    10          3    18.956082  988.054504   \n",
       "11  2011      1    1    11          2    21.354047  987.463867   \n",
       "12  2011      1    1    12          2    22.161257  986.386169   \n",
       "13  2011      1    1    13          2    22.256216  985.736511   \n",
       "14  2011      1    1    14          2    21.725884  985.521545   \n",
       "15  2011      1    1    15          2    20.507269  985.279663   \n",
       "\n",
       "    Relative Humidity  Wind Direction  Wind Speed  Solar Radiation (GHI)  \n",
       "6           67.093181       95.835983    1.815175                      0  \n",
       "7           64.035483      105.198181    1.615310                      0  \n",
       "8           55.105656      113.317665    1.439088                    159  \n",
       "9           47.166938      117.327606    1.063374                    363  \n",
       "10          36.747087       72.488327    0.545695                    533  \n",
       "11          29.157015       12.976929    0.980117                    649  \n",
       "12          27.593071        4.777779    1.411915                    698  \n",
       "13          27.274695        5.355347    1.747909                    675  \n",
       "14          27.819289        6.877182    2.005287                    582  \n",
       "15          30.023284       10.448921    2.206879                    430  "
      ]
     },
     "execution_count": 16,
     "metadata": {},
     "output_type": "execute_result"
    }
   ],
   "source": [
    "data.head(10)"
   ]
  },
  {
   "cell_type": "code",
   "execution_count": 17,
   "metadata": {
    "colab": {
     "base_uri": "https://localhost:8080/"
    },
    "id": "nuZWJ2lgHldP",
    "outputId": "080369b1-f8b6-49a5-a32a-e98f1e58e801"
   },
   "outputs": [
    {
     "data": {
      "text/plain": [
       "(9490, 11)"
      ]
     },
     "execution_count": 17,
     "metadata": {},
     "output_type": "execute_result"
    }
   ],
   "source": [
    "data.shape"
   ]
  },
  {
   "cell_type": "markdown",
   "metadata": {
    "id": "7hduB3luHqB3"
   },
   "source": [
    "## Input and Output Data"
   ]
  },
  {
   "cell_type": "code",
   "execution_count": 18,
   "metadata": {
    "id": "4LzgC5BNHrYF"
   },
   "outputs": [],
   "source": [
    "X=data.iloc[:,:-1]\n",
    "Y=data.iloc[:,-1]"
   ]
  },
  {
   "cell_type": "code",
   "execution_count": 19,
   "metadata": {
    "colab": {
     "base_uri": "https://localhost:8080/",
     "height": 223
    },
    "id": "J5py80WeHy2L",
    "outputId": "49ea6a91-d1b0-498c-c9aa-7af936ac5417"
   },
   "outputs": [
    {
     "data": {
      "text/html": [
       "<div>\n",
       "<style scoped>\n",
       "    .dataframe tbody tr th:only-of-type {\n",
       "        vertical-align: middle;\n",
       "    }\n",
       "\n",
       "    .dataframe tbody tr th {\n",
       "        vertical-align: top;\n",
       "    }\n",
       "\n",
       "    .dataframe thead th {\n",
       "        text-align: right;\n",
       "    }\n",
       "</style>\n",
       "<table border=\"1\" class=\"dataframe\">\n",
       "  <thead>\n",
       "    <tr style=\"text-align: right;\">\n",
       "      <th></th>\n",
       "      <th>Year</th>\n",
       "      <th>Month</th>\n",
       "      <th>Day</th>\n",
       "      <th>Hour</th>\n",
       "      <th>Dew Point</th>\n",
       "      <th>Temperature</th>\n",
       "      <th>Pressure</th>\n",
       "      <th>Relative Humidity</th>\n",
       "      <th>Wind Direction</th>\n",
       "      <th>Wind Speed</th>\n",
       "    </tr>\n",
       "  </thead>\n",
       "  <tbody>\n",
       "    <tr>\n",
       "      <th>6</th>\n",
       "      <td>2011</td>\n",
       "      <td>1</td>\n",
       "      <td>1</td>\n",
       "      <td>6</td>\n",
       "      <td>2</td>\n",
       "      <td>7.806705</td>\n",
       "      <td>986.249146</td>\n",
       "      <td>67.093181</td>\n",
       "      <td>95.835983</td>\n",
       "      <td>1.815175</td>\n",
       "    </tr>\n",
       "    <tr>\n",
       "      <th>7</th>\n",
       "      <td>2011</td>\n",
       "      <td>1</td>\n",
       "      <td>1</td>\n",
       "      <td>7</td>\n",
       "      <td>2</td>\n",
       "      <td>9.036408</td>\n",
       "      <td>987.038940</td>\n",
       "      <td>64.035483</td>\n",
       "      <td>105.198181</td>\n",
       "      <td>1.615310</td>\n",
       "    </tr>\n",
       "    <tr>\n",
       "      <th>8</th>\n",
       "      <td>2011</td>\n",
       "      <td>1</td>\n",
       "      <td>1</td>\n",
       "      <td>8</td>\n",
       "      <td>3</td>\n",
       "      <td>12.158280</td>\n",
       "      <td>987.897400</td>\n",
       "      <td>55.105656</td>\n",
       "      <td>113.317665</td>\n",
       "      <td>1.439088</td>\n",
       "    </tr>\n",
       "    <tr>\n",
       "      <th>9</th>\n",
       "      <td>2011</td>\n",
       "      <td>1</td>\n",
       "      <td>1</td>\n",
       "      <td>9</td>\n",
       "      <td>3</td>\n",
       "      <td>14.965301</td>\n",
       "      <td>988.211914</td>\n",
       "      <td>47.166938</td>\n",
       "      <td>117.327606</td>\n",
       "      <td>1.063374</td>\n",
       "    </tr>\n",
       "    <tr>\n",
       "      <th>10</th>\n",
       "      <td>2011</td>\n",
       "      <td>1</td>\n",
       "      <td>1</td>\n",
       "      <td>10</td>\n",
       "      <td>3</td>\n",
       "      <td>18.956082</td>\n",
       "      <td>988.054504</td>\n",
       "      <td>36.747087</td>\n",
       "      <td>72.488327</td>\n",
       "      <td>0.545695</td>\n",
       "    </tr>\n",
       "  </tbody>\n",
       "</table>\n",
       "</div>"
      ],
      "text/plain": [
       "    Year  Month  Day  Hour  Dew Point  Temperature    Pressure  \\\n",
       "6   2011      1    1     6          2     7.806705  986.249146   \n",
       "7   2011      1    1     7          2     9.036408  987.038940   \n",
       "8   2011      1    1     8          3    12.158280  987.897400   \n",
       "9   2011      1    1     9          3    14.965301  988.211914   \n",
       "10  2011      1    1    10          3    18.956082  988.054504   \n",
       "\n",
       "    Relative Humidity  Wind Direction  Wind Speed  \n",
       "6           67.093181       95.835983    1.815175  \n",
       "7           64.035483      105.198181    1.615310  \n",
       "8           55.105656      113.317665    1.439088  \n",
       "9           47.166938      117.327606    1.063374  \n",
       "10          36.747087       72.488327    0.545695  "
      ]
     },
     "execution_count": 19,
     "metadata": {},
     "output_type": "execute_result"
    }
   ],
   "source": [
    "X.head()"
   ]
  },
  {
   "cell_type": "code",
   "execution_count": 20,
   "metadata": {
    "colab": {
     "base_uri": "https://localhost:8080/"
    },
    "id": "63g98BTWH1_a",
    "outputId": "6e9b20bf-1ee3-43b1-df2f-75176baadcff"
   },
   "outputs": [
    {
     "data": {
      "text/plain": [
       "6       0\n",
       "7       0\n",
       "8     159\n",
       "9     363\n",
       "10    533\n",
       "Name: Solar Radiation (GHI), dtype: int64"
      ]
     },
     "execution_count": 20,
     "metadata": {},
     "output_type": "execute_result"
    }
   ],
   "source": [
    "Y.head()"
   ]
  },
  {
   "cell_type": "code",
   "execution_count": 21,
   "metadata": {
    "id": "-DuyqdT_H3k2"
   },
   "outputs": [],
   "source": [
    "from sklearn.preprocessing import MinMaxScaler\n",
    "X=pd.DataFrame(MinMaxScaler().fit(X).transform(X))"
   ]
  },
  {
   "cell_type": "code",
   "execution_count": 22,
   "metadata": {
    "colab": {
     "base_uri": "https://localhost:8080/",
     "height": 206
    },
    "id": "zA_0IaywIt2z",
    "outputId": "02080e2b-3b7c-44c2-e206-a2c4a9943f88"
   },
   "outputs": [
    {
     "data": {
      "text/html": [
       "<div>\n",
       "<style scoped>\n",
       "    .dataframe tbody tr th:only-of-type {\n",
       "        vertical-align: middle;\n",
       "    }\n",
       "\n",
       "    .dataframe tbody tr th {\n",
       "        vertical-align: top;\n",
       "    }\n",
       "\n",
       "    .dataframe thead th {\n",
       "        text-align: right;\n",
       "    }\n",
       "</style>\n",
       "<table border=\"1\" class=\"dataframe\">\n",
       "  <thead>\n",
       "    <tr style=\"text-align: right;\">\n",
       "      <th></th>\n",
       "      <th>0</th>\n",
       "      <th>1</th>\n",
       "      <th>2</th>\n",
       "      <th>3</th>\n",
       "      <th>4</th>\n",
       "      <th>5</th>\n",
       "      <th>6</th>\n",
       "      <th>7</th>\n",
       "      <th>8</th>\n",
       "      <th>9</th>\n",
       "    </tr>\n",
       "  </thead>\n",
       "  <tbody>\n",
       "    <tr>\n",
       "      <th>0</th>\n",
       "      <td>0.0</td>\n",
       "      <td>0.0</td>\n",
       "      <td>0.0</td>\n",
       "      <td>0.000000</td>\n",
       "      <td>0.545455</td>\n",
       "      <td>0.058249</td>\n",
       "      <td>0.751583</td>\n",
       "      <td>0.667870</td>\n",
       "      <td>0.266273</td>\n",
       "      <td>0.245979</td>\n",
       "    </tr>\n",
       "    <tr>\n",
       "      <th>1</th>\n",
       "      <td>0.0</td>\n",
       "      <td>0.0</td>\n",
       "      <td>0.0</td>\n",
       "      <td>0.083333</td>\n",
       "      <td>0.545455</td>\n",
       "      <td>0.084360</td>\n",
       "      <td>0.779201</td>\n",
       "      <td>0.637009</td>\n",
       "      <td>0.292294</td>\n",
       "      <td>0.218438</td>\n",
       "    </tr>\n",
       "    <tr>\n",
       "      <th>2</th>\n",
       "      <td>0.0</td>\n",
       "      <td>0.0</td>\n",
       "      <td>0.0</td>\n",
       "      <td>0.166667</td>\n",
       "      <td>0.563636</td>\n",
       "      <td>0.150650</td>\n",
       "      <td>0.809220</td>\n",
       "      <td>0.546880</td>\n",
       "      <td>0.314862</td>\n",
       "      <td>0.194155</td>\n",
       "    </tr>\n",
       "    <tr>\n",
       "      <th>3</th>\n",
       "      <td>0.0</td>\n",
       "      <td>0.0</td>\n",
       "      <td>0.0</td>\n",
       "      <td>0.250000</td>\n",
       "      <td>0.563636</td>\n",
       "      <td>0.210254</td>\n",
       "      <td>0.820218</td>\n",
       "      <td>0.466754</td>\n",
       "      <td>0.326007</td>\n",
       "      <td>0.142382</td>\n",
       "    </tr>\n",
       "    <tr>\n",
       "      <th>4</th>\n",
       "      <td>0.0</td>\n",
       "      <td>0.0</td>\n",
       "      <td>0.0</td>\n",
       "      <td>0.333333</td>\n",
       "      <td>0.563636</td>\n",
       "      <td>0.294994</td>\n",
       "      <td>0.814713</td>\n",
       "      <td>0.361586</td>\n",
       "      <td>0.201380</td>\n",
       "      <td>0.071046</td>\n",
       "    </tr>\n",
       "  </tbody>\n",
       "</table>\n",
       "</div>"
      ],
      "text/plain": [
       "     0    1    2         3         4         5         6         7         8  \\\n",
       "0  0.0  0.0  0.0  0.000000  0.545455  0.058249  0.751583  0.667870  0.266273   \n",
       "1  0.0  0.0  0.0  0.083333  0.545455  0.084360  0.779201  0.637009  0.292294   \n",
       "2  0.0  0.0  0.0  0.166667  0.563636  0.150650  0.809220  0.546880  0.314862   \n",
       "3  0.0  0.0  0.0  0.250000  0.563636  0.210254  0.820218  0.466754  0.326007   \n",
       "4  0.0  0.0  0.0  0.333333  0.563636  0.294994  0.814713  0.361586  0.201380   \n",
       "\n",
       "          9  \n",
       "0  0.245979  \n",
       "1  0.218438  \n",
       "2  0.194155  \n",
       "3  0.142382  \n",
       "4  0.071046  "
      ]
     },
     "execution_count": 22,
     "metadata": {},
     "output_type": "execute_result"
    }
   ],
   "source": [
    "X.head()"
   ]
  },
  {
   "cell_type": "markdown",
   "metadata": {
    "id": "KkqQnnrdI5Ce"
   },
   "source": [
    "## Correlation Matrix Heat Map"
   ]
  },
  {
   "cell_type": "code",
   "execution_count": 23,
   "metadata": {
    "id": "d_-5ZrnlIueO"
   },
   "outputs": [],
   "source": [
    "corr_matrix=data.corr()"
   ]
  },
  {
   "cell_type": "code",
   "execution_count": 24,
   "metadata": {
    "colab": {
     "base_uri": "https://localhost:8080/",
     "height": 657
    },
    "id": "87o-1R2eI9Pr",
    "outputId": "502da814-7947-4e42-e437-b60344fdda5d"
   },
   "outputs": [
    {
     "data": {
      "text/html": [
       "<div>\n",
       "<style scoped>\n",
       "    .dataframe tbody tr th:only-of-type {\n",
       "        vertical-align: middle;\n",
       "    }\n",
       "\n",
       "    .dataframe tbody tr th {\n",
       "        vertical-align: top;\n",
       "    }\n",
       "\n",
       "    .dataframe thead th {\n",
       "        text-align: right;\n",
       "    }\n",
       "</style>\n",
       "<table border=\"1\" class=\"dataframe\">\n",
       "  <thead>\n",
       "    <tr style=\"text-align: right;\">\n",
       "      <th></th>\n",
       "      <th>Year</th>\n",
       "      <th>Month</th>\n",
       "      <th>Day</th>\n",
       "      <th>Hour</th>\n",
       "      <th>Dew Point</th>\n",
       "      <th>Temperature</th>\n",
       "      <th>Pressure</th>\n",
       "      <th>Relative Humidity</th>\n",
       "      <th>Wind Direction</th>\n",
       "      <th>Wind Speed</th>\n",
       "      <th>Solar Radiation (GHI)</th>\n",
       "    </tr>\n",
       "  </thead>\n",
       "  <tbody>\n",
       "    <tr>\n",
       "      <th>Year</th>\n",
       "      <td>1.000000e+00</td>\n",
       "      <td>-1.206348e-12</td>\n",
       "      <td>-7.235267e-14</td>\n",
       "      <td>-1.408221e-15</td>\n",
       "      <td>-0.139773</td>\n",
       "      <td>0.026887</td>\n",
       "      <td>0.020252</td>\n",
       "      <td>-0.166373</td>\n",
       "      <td>0.011996</td>\n",
       "      <td>0.037455</td>\n",
       "      <td>-0.013891</td>\n",
       "    </tr>\n",
       "    <tr>\n",
       "      <th>Month</th>\n",
       "      <td>-1.206348e-12</td>\n",
       "      <td>1.000000e+00</td>\n",
       "      <td>1.189318e-02</td>\n",
       "      <td>2.332832e-15</td>\n",
       "      <td>0.491577</td>\n",
       "      <td>-0.038576</td>\n",
       "      <td>-0.036657</td>\n",
       "      <td>0.460993</td>\n",
       "      <td>-0.102648</td>\n",
       "      <td>-0.216902</td>\n",
       "      <td>-0.090227</td>\n",
       "    </tr>\n",
       "    <tr>\n",
       "      <th>Day</th>\n",
       "      <td>-7.235267e-14</td>\n",
       "      <td>1.189318e-02</td>\n",
       "      <td>1.000000e+00</td>\n",
       "      <td>2.843627e-17</td>\n",
       "      <td>-0.017772</td>\n",
       "      <td>-0.011873</td>\n",
       "      <td>0.046708</td>\n",
       "      <td>-0.005074</td>\n",
       "      <td>-0.021712</td>\n",
       "      <td>0.038542</td>\n",
       "      <td>0.011420</td>\n",
       "    </tr>\n",
       "    <tr>\n",
       "      <th>Hour</th>\n",
       "      <td>-1.408221e-15</td>\n",
       "      <td>2.332832e-15</td>\n",
       "      <td>2.843627e-17</td>\n",
       "      <td>1.000000e+00</td>\n",
       "      <td>-0.020686</td>\n",
       "      <td>0.269499</td>\n",
       "      <td>-0.183460</td>\n",
       "      <td>-0.211869</td>\n",
       "      <td>0.113641</td>\n",
       "      <td>0.006593</td>\n",
       "      <td>0.040573</td>\n",
       "    </tr>\n",
       "    <tr>\n",
       "      <th>Dew Point</th>\n",
       "      <td>-1.397731e-01</td>\n",
       "      <td>4.915774e-01</td>\n",
       "      <td>-1.777210e-02</td>\n",
       "      <td>-2.068626e-02</td>\n",
       "      <td>1.000000</td>\n",
       "      <td>0.198330</td>\n",
       "      <td>-0.587488</td>\n",
       "      <td>0.790023</td>\n",
       "      <td>0.160133</td>\n",
       "      <td>0.072254</td>\n",
       "      <td>-0.024650</td>\n",
       "    </tr>\n",
       "    <tr>\n",
       "      <th>Temperature</th>\n",
       "      <td>2.688710e-02</td>\n",
       "      <td>-3.857553e-02</td>\n",
       "      <td>-1.187262e-02</td>\n",
       "      <td>2.694991e-01</td>\n",
       "      <td>0.198330</td>\n",
       "      <td>1.000000</td>\n",
       "      <td>-0.627170</td>\n",
       "      <td>-0.344609</td>\n",
       "      <td>0.431627</td>\n",
       "      <td>0.263510</td>\n",
       "      <td>0.608713</td>\n",
       "    </tr>\n",
       "    <tr>\n",
       "      <th>Pressure</th>\n",
       "      <td>2.025241e-02</td>\n",
       "      <td>-3.665724e-02</td>\n",
       "      <td>4.670753e-02</td>\n",
       "      <td>-1.834597e-01</td>\n",
       "      <td>-0.587488</td>\n",
       "      <td>-0.627170</td>\n",
       "      <td>1.000000</td>\n",
       "      <td>-0.244693</td>\n",
       "      <td>-0.428785</td>\n",
       "      <td>-0.435057</td>\n",
       "      <td>-0.144057</td>\n",
       "    </tr>\n",
       "    <tr>\n",
       "      <th>Relative Humidity</th>\n",
       "      <td>-1.663735e-01</td>\n",
       "      <td>4.609927e-01</td>\n",
       "      <td>-5.073932e-03</td>\n",
       "      <td>-2.118687e-01</td>\n",
       "      <td>0.790023</td>\n",
       "      <td>-0.344609</td>\n",
       "      <td>-0.244693</td>\n",
       "      <td>1.000000</td>\n",
       "      <td>-0.053618</td>\n",
       "      <td>-0.107921</td>\n",
       "      <td>-0.371410</td>\n",
       "    </tr>\n",
       "    <tr>\n",
       "      <th>Wind Direction</th>\n",
       "      <td>1.199631e-02</td>\n",
       "      <td>-1.026477e-01</td>\n",
       "      <td>-2.171216e-02</td>\n",
       "      <td>1.136411e-01</td>\n",
       "      <td>0.160133</td>\n",
       "      <td>0.431627</td>\n",
       "      <td>-0.428785</td>\n",
       "      <td>-0.053618</td>\n",
       "      <td>1.000000</td>\n",
       "      <td>0.207285</td>\n",
       "      <td>0.168475</td>\n",
       "    </tr>\n",
       "    <tr>\n",
       "      <th>Wind Speed</th>\n",
       "      <td>3.745498e-02</td>\n",
       "      <td>-2.169017e-01</td>\n",
       "      <td>3.854214e-02</td>\n",
       "      <td>6.593433e-03</td>\n",
       "      <td>0.072254</td>\n",
       "      <td>0.263510</td>\n",
       "      <td>-0.435057</td>\n",
       "      <td>-0.107921</td>\n",
       "      <td>0.207285</td>\n",
       "      <td>1.000000</td>\n",
       "      <td>0.007935</td>\n",
       "    </tr>\n",
       "    <tr>\n",
       "      <th>Solar Radiation (GHI)</th>\n",
       "      <td>-1.389141e-02</td>\n",
       "      <td>-9.022667e-02</td>\n",
       "      <td>1.142019e-02</td>\n",
       "      <td>4.057306e-02</td>\n",
       "      <td>-0.024650</td>\n",
       "      <td>0.608713</td>\n",
       "      <td>-0.144057</td>\n",
       "      <td>-0.371410</td>\n",
       "      <td>0.168475</td>\n",
       "      <td>0.007935</td>\n",
       "      <td>1.000000</td>\n",
       "    </tr>\n",
       "  </tbody>\n",
       "</table>\n",
       "</div>"
      ],
      "text/plain": [
       "                               Year         Month           Day          Hour  \\\n",
       "Year                   1.000000e+00 -1.206348e-12 -7.235267e-14 -1.408221e-15   \n",
       "Month                 -1.206348e-12  1.000000e+00  1.189318e-02  2.332832e-15   \n",
       "Day                   -7.235267e-14  1.189318e-02  1.000000e+00  2.843627e-17   \n",
       "Hour                  -1.408221e-15  2.332832e-15  2.843627e-17  1.000000e+00   \n",
       "Dew Point             -1.397731e-01  4.915774e-01 -1.777210e-02 -2.068626e-02   \n",
       "Temperature            2.688710e-02 -3.857553e-02 -1.187262e-02  2.694991e-01   \n",
       "Pressure               2.025241e-02 -3.665724e-02  4.670753e-02 -1.834597e-01   \n",
       "Relative Humidity     -1.663735e-01  4.609927e-01 -5.073932e-03 -2.118687e-01   \n",
       "Wind Direction         1.199631e-02 -1.026477e-01 -2.171216e-02  1.136411e-01   \n",
       "Wind Speed             3.745498e-02 -2.169017e-01  3.854214e-02  6.593433e-03   \n",
       "Solar Radiation (GHI) -1.389141e-02 -9.022667e-02  1.142019e-02  4.057306e-02   \n",
       "\n",
       "                       Dew Point  Temperature  Pressure  Relative Humidity  \\\n",
       "Year                   -0.139773     0.026887  0.020252          -0.166373   \n",
       "Month                   0.491577    -0.038576 -0.036657           0.460993   \n",
       "Day                    -0.017772    -0.011873  0.046708          -0.005074   \n",
       "Hour                   -0.020686     0.269499 -0.183460          -0.211869   \n",
       "Dew Point               1.000000     0.198330 -0.587488           0.790023   \n",
       "Temperature             0.198330     1.000000 -0.627170          -0.344609   \n",
       "Pressure               -0.587488    -0.627170  1.000000          -0.244693   \n",
       "Relative Humidity       0.790023    -0.344609 -0.244693           1.000000   \n",
       "Wind Direction          0.160133     0.431627 -0.428785          -0.053618   \n",
       "Wind Speed              0.072254     0.263510 -0.435057          -0.107921   \n",
       "Solar Radiation (GHI)  -0.024650     0.608713 -0.144057          -0.371410   \n",
       "\n",
       "                       Wind Direction  Wind Speed  Solar Radiation (GHI)  \n",
       "Year                         0.011996    0.037455              -0.013891  \n",
       "Month                       -0.102648   -0.216902              -0.090227  \n",
       "Day                         -0.021712    0.038542               0.011420  \n",
       "Hour                         0.113641    0.006593               0.040573  \n",
       "Dew Point                    0.160133    0.072254              -0.024650  \n",
       "Temperature                  0.431627    0.263510               0.608713  \n",
       "Pressure                    -0.428785   -0.435057              -0.144057  \n",
       "Relative Humidity           -0.053618   -0.107921              -0.371410  \n",
       "Wind Direction               1.000000    0.207285               0.168475  \n",
       "Wind Speed                   0.207285    1.000000               0.007935  \n",
       "Solar Radiation (GHI)        0.168475    0.007935               1.000000  "
      ]
     },
     "execution_count": 24,
     "metadata": {},
     "output_type": "execute_result"
    }
   ],
   "source": [
    "corr_matrix"
   ]
  },
  {
   "cell_type": "code",
   "execution_count": 25,
   "metadata": {
    "colab": {
     "base_uri": "https://localhost:8080/",
     "height": 849
    },
    "id": "Rbw2BavWI956",
    "outputId": "3fb2226c-d56b-47bb-ee03-bcd89fe48c36"
   },
   "outputs": [
    {
     "data": {
      "text/plain": [
       "<Axes: >"
      ]
     },
     "execution_count": 25,
     "metadata": {},
     "output_type": "execute_result"
    },
    {
     "data": {
      "image/png": "[encoded data removed]",
      "text/plain": [
       "<Figure size 1200x1200 with 2 Axes>"
      ]
     },
     "metadata": {},
     "output_type": "display_data"
    }
   ],
   "source": [
    "plt.figure(figsize=(12,12))\n",
    "sns.heatmap(data.corr(),annot=True)"
   ]
  },
  {
   "cell_type": "markdown",
   "metadata": {
    "id": "SkDYvxnLJ9uf"
   },
   "source": [
    "## Extra Tree Classifier"
   ]
  },
  {
   "cell_type": "code",
   "execution_count": 26,
   "metadata": {
    "id": "VYMiKrDDJ6zk"
   },
   "outputs": [
    {
     "data": {
      "text/html": [
       "<style>#sk-container-id-1 {color: black;background-color: white;}#sk-container-id-1 pre{padding: 0;}#sk-container-id-1 div.sk-toggleable {background-color: white;}#sk-container-id-1 label.sk-toggleable__label {cursor: pointer;display: block;width: 100%;margin-bottom: 0;padding: 0.3em;box-sizing: border-box;text-align: center;}#sk-container-id-1 label.sk-toggleable__label-arrow:before {content: \"▸\";float: left;margin-right: 0.25em;color: #696969;}#sk-container-id-1 label.sk-toggleable__label-arrow:hover:before {color: black;}#sk-container-id-1 div.sk-estimator:hover label.sk-toggleable__label-arrow:before {color: black;}#sk-container-id-1 div.sk-toggleable__content {max-height: 0;max-width: 0;overflow: hidden;text-align: left;background-color: #f0f8ff;}#sk-container-id-1 div.sk-toggleable__content pre {margin: 0.2em;color: black;border-radius: 0.25em;background-color: #f0f8ff;}#sk-container-id-1 input.sk-toggleable__control:checked~div.sk-toggleable__content {max-height: 200px;max-width: 100%;overflow: auto;}#sk-container-id-1 input.sk-toggleable__control:checked~label.sk-toggleable__label-arrow:before {content: \"▾\";}#sk-container-id-1 div.sk-estimator input.sk-toggleable__control:checked~label.sk-toggleable__label {background-color: #d4ebff;}#sk-container-id-1 div.sk-label input.sk-toggleable__control:checked~label.sk-toggleable__label {background-color: #d4ebff;}#sk-container-id-1 input.sk-hidden--visually {border: 0;clip: rect(1px 1px 1px 1px);clip: rect(1px, 1px, 1px, 1px);height: 1px;margin: -1px;overflow: hidden;padding: 0;position: absolute;width: 1px;}#sk-container-id-1 div.sk-estimator {font-family: monospace;background-color: #f0f8ff;border: 1px dotted black;border-radius: 0.25em;box-sizing: border-box;margin-bottom: 0.5em;}#sk-container-id-1 div.sk-estimator:hover {background-color: #d4ebff;}#sk-container-id-1 div.sk-parallel-item::after {content: \"\";width: 100%;border-bottom: 1px solid gray;flex-grow: 1;}#sk-container-id-1 div.sk-label:hover label.sk-toggleable__label {background-color: #d4ebff;}#sk-container-id-1 div.sk-serial::before {content: \"\";position: absolute;border-left: 1px solid gray;box-sizing: border-box;top: 0;bottom: 0;left: 50%;z-index: 0;}#sk-container-id-1 div.sk-serial {display: flex;flex-direction: column;align-items: center;background-color: white;padding-right: 0.2em;padding-left: 0.2em;position: relative;}#sk-container-id-1 div.sk-item {position: relative;z-index: 1;}#sk-container-id-1 div.sk-parallel {display: flex;align-items: stretch;justify-content: center;background-color: white;position: relative;}#sk-container-id-1 div.sk-item::before, #sk-container-id-1 div.sk-parallel-item::before {content: \"\";position: absolute;border-left: 1px solid gray;box-sizing: border-box;top: 0;bottom: 0;left: 50%;z-index: -1;}#sk-container-id-1 div.sk-parallel-item {display: flex;flex-direction: column;z-index: 1;position: relative;background-color: white;}#sk-container-id-1 div.sk-parallel-item:first-child::after {align-self: flex-end;width: 50%;}#sk-container-id-1 div.sk-parallel-item:last-child::after {align-self: flex-start;width: 50%;}#sk-container-id-1 div.sk-parallel-item:only-child::after {width: 0;}#sk-container-id-1 div.sk-dashed-wrapped {border: 1px dashed gray;margin: 0 0.4em 0.5em 0.4em;box-sizing: border-box;padding-bottom: 0.4em;background-color: white;}#sk-container-id-1 div.sk-label label {font-family: monospace;font-weight: bold;display: inline-block;line-height: 1.2em;}#sk-container-id-1 div.sk-label-container {text-align: center;}#sk-container-id-1 div.sk-container {/* jupyter's `normalize.less` sets `[hidden] { display: none; }` but bootstrap.min.css set `[hidden] { display: none !important; }` so we also need the `!important` here to be able to override the default hidden behavior on the sphinx rendered scikit-learn.org. See: https://github.com/scikit-learn/scikit-learn/issues/21755 */display: inline-block !important;position: relative;}#sk-container-id-1 div.sk-text-repr-fallback {display: none;}</style><div id=\"sk-container-id-1\" class=\"sk-top-container\"><div class=\"sk-text-repr-fallback\"><pre>ExtraTreesClassifier()</pre><b>In a Jupyter environment, please rerun this cell to show the HTML representation or trust the notebook. <br />On GitHub, the HTML representation is unable to render, please try loading this page with nbviewer.org.</b></div><div class=\"sk-container\" hidden><div class=\"sk-item\"><div class=\"sk-estimator sk-toggleable\"><input class=\"sk-toggleable__control sk-hidden--visually\" id=\"sk-estimator-id-1\" type=\"checkbox\" checked><label for=\"sk-estimator-id-1\" class=\"sk-toggleable__label sk-toggleable__label-arrow\">ExtraTreesClassifier</label><div class=\"sk-toggleable__content\"><pre>ExtraTreesClassifier()</pre></div></div></div></div></div>"
      ],
      "text/plain": [
       "ExtraTreesClassifier()"
      ]
     },
     "execution_count": 26,
     "metadata": {},
     "output_type": "execute_result"
    }
   ],
   "source": [
    "from sklearn.ensemble import ExtraTreesClassifier\n",
    "model=ExtraTreesClassifier()\n",
    "model.fit(X,Y)"
   ]
  },
  {
   "cell_type": "code",
   "execution_count": 31,
   "metadata": {
    "id": "uHAcA9t3KOaX"
   },
   "outputs": [],
   "source": [
    "col = ['Year', 'Month', 'Day', 'Hour', 'Dew Point', 'Temperature', 'Pressure',\n",
    "       'Relative Humidity', 'Wind Direction', 'Wind Speed',]\n",
    "imp_feature=pd.Series(model.feature_importances_,index=col)"
   ]
  },
  {
   "cell_type": "code",
   "execution_count": 32,
   "metadata": {},
   "outputs": [
    {
     "data": {
      "text/plain": [
       "Year                 0.026869\n",
       "Month                0.042955\n",
       "Day                  0.109457\n",
       "Hour                 0.111286\n",
       "Dew Point            0.088678\n",
       "Temperature          0.139481\n",
       "Pressure             0.123964\n",
       "Relative Humidity    0.123209\n",
       "Wind Direction       0.117065\n",
       "Wind Speed           0.117036\n",
       "dtype: float64"
      ]
     },
     "execution_count": 32,
     "metadata": {},
     "output_type": "execute_result"
    }
   ],
   "source": [
    "imp_feature"
   ]
  },
  {
   "cell_type": "code",
   "execution_count": 35,
   "metadata": {},
   "outputs": [
    {
     "data": {
      "image/png": "[encoded data removed]",
      "text/plain": [
       "<Figure size 640x480 with 1 Axes>"
      ]
     },
     "metadata": {},
     "output_type": "display_data"
    }
   ],
   "source": [
    "imp_feature.nlargest(10).plot(kind='bar')\n",
    "plt.show()"
   ]
  },
  {
   "cell_type": "markdown",
   "metadata": {},
   "source": [
    "\n",
    "# Select K Best Method"
   ]
  },
  {
   "cell_type": "code",
   "execution_count": 38,
   "metadata": {},
   "outputs": [],
   "source": [
    "from sklearn.feature_selection import SelectKBest\n",
    "from sklearn.feature_selection import chi2"
   ]
  },
  {
   "cell_type": "code",
   "execution_count": 39,
   "metadata": {},
   "outputs": [],
   "source": [
    "bestFeatures=SelectKBest(score_func=chi2,k=10).fit(X,Y)"
   ]
  },
  {
   "cell_type": "code",
   "execution_count": 54,
   "metadata": {},
   "outputs": [],
   "source": [
    "df1=pd.DataFrame(bestFeatures.scores_)\n",
    "df2=pd.DataFrame(col)\n",
    "df=pd.concat([df1,df2],axis=1)\n"
   ]
  },
  {
   "cell_type": "code",
   "execution_count": 57,
   "metadata": {},
   "outputs": [],
   "source": [
    "df.columns=['Scores','Features']"
   ]
  },
  {
   "cell_type": "code",
   "execution_count": 58,
   "metadata": {},
   "outputs": [
    {
     "data": {
      "text/html": [
       "<div>\n",
       "<style scoped>\n",
       "    .dataframe tbody tr th:only-of-type {\n",
       "        vertical-align: middle;\n",
       "    }\n",
       "\n",
       "    .dataframe tbody tr th {\n",
       "        vertical-align: top;\n",
       "    }\n",
       "\n",
       "    .dataframe thead th {\n",
       "        text-align: right;\n",
       "    }\n",
       "</style>\n",
       "<table border=\"1\" class=\"dataframe\">\n",
       "  <thead>\n",
       "    <tr style=\"text-align: right;\">\n",
       "      <th></th>\n",
       "      <th>Scores</th>\n",
       "      <th>Features</th>\n",
       "    </tr>\n",
       "  </thead>\n",
       "  <tbody>\n",
       "    <tr>\n",
       "      <th>0</th>\n",
       "      <td>504.976721</td>\n",
       "      <td>Year</td>\n",
       "    </tr>\n",
       "    <tr>\n",
       "      <th>1</th>\n",
       "      <td>236.303859</td>\n",
       "      <td>Month</td>\n",
       "    </tr>\n",
       "    <tr>\n",
       "      <th>2</th>\n",
       "      <td>208.497847</td>\n",
       "      <td>Day</td>\n",
       "    </tr>\n",
       "    <tr>\n",
       "      <th>3</th>\n",
       "      <td>271.978728</td>\n",
       "      <td>Hour</td>\n",
       "    </tr>\n",
       "    <tr>\n",
       "      <th>4</th>\n",
       "      <td>74.952667</td>\n",
       "      <td>Dew Point</td>\n",
       "    </tr>\n",
       "    <tr>\n",
       "      <th>5</th>\n",
       "      <td>306.062548</td>\n",
       "      <td>Temperature</td>\n",
       "    </tr>\n",
       "    <tr>\n",
       "      <th>6</th>\n",
       "      <td>213.040872</td>\n",
       "      <td>Pressure</td>\n",
       "    </tr>\n",
       "    <tr>\n",
       "      <th>7</th>\n",
       "      <td>397.828591</td>\n",
       "      <td>Relative Humidity</td>\n",
       "    </tr>\n",
       "    <tr>\n",
       "      <th>8</th>\n",
       "      <td>221.823327</td>\n",
       "      <td>Wind Direction</td>\n",
       "    </tr>\n",
       "    <tr>\n",
       "      <th>9</th>\n",
       "      <td>148.735716</td>\n",
       "      <td>Wind Speed</td>\n",
       "    </tr>\n",
       "  </tbody>\n",
       "</table>\n",
       "</div>"
      ],
      "text/plain": [
       "       Scores           Features\n",
       "0  504.976721               Year\n",
       "1  236.303859              Month\n",
       "2  208.497847                Day\n",
       "3  271.978728               Hour\n",
       "4   74.952667          Dew Point\n",
       "5  306.062548        Temperature\n",
       "6  213.040872           Pressure\n",
       "7  397.828591  Relative Humidity\n",
       "8  221.823327     Wind Direction\n",
       "9  148.735716         Wind Speed"
      ]
     },
     "execution_count": 58,
     "metadata": {},
     "output_type": "execute_result"
    }
   ],
   "source": [
    "df"
   ]
  },
  {
   "cell_type": "code",
   "execution_count": 61,
   "metadata": {},
   "outputs": [
    {
     "data": {
      "text/plain": [
       "<Axes: >"
      ]
     },
     "execution_count": 61,
     "metadata": {},
     "output_type": "execute_result"
    },
    {
     "data": {
      "image/png": "[encoded data removed]",
      "text/plain": [
       "<Figure size 640x480 with 1 Axes>"
      ]
     },
     "metadata": {},
     "output_type": "display_data"
    }
   ],
   "source": [
    "df.nlargest(10,'Scores').plot(kind='bar')"
   ]
  }
 ],
 "metadata": {
  "colab": {
   "provenance": []
  },
  "kernelspec": {
   "display_name": "Python 3 (ipykernel)",
   "language": "python",
   "name": "python3"
  },
  "language_info": {
   "codemirror_mode": {
    "name": "ipython",
    "version": 3
   },
   "file_extension": ".py",
   "mimetype": "text/x-python",
   "name": "python",
   "nbconvert_exporter": "python",
   "pygments_lexer": "ipython3",
   "version": "3.10.9"
  }
 },
 "nbformat": 4,
 "nbformat_minor": 1
}
